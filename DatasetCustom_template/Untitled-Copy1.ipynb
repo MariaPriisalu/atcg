{
 "cells": [
  {
   "cell_type": "code",
   "execution_count": 17,
   "metadata": {
    "scrolled": true
   },
   "outputs": [
    {
     "name": "stdout",
     "output_type": "stream",
     "text": [
      "Copying from ./scene102/Town03/0/172 to ./DatasetOut/test_0...\n",
      "Finished\n"
     ]
    }
   ],
   "source": [
    "import glob\n",
    "from distutils.dir_util import copy_tree\n",
    "import os\n",
    "\n",
    "outputBasePath = \"./DatasetOut\"\n",
    "testIndex = 0\n",
    "\n",
    "\n",
    "scenePattern = '[a-zA-Z0-9]'\n",
    "for name in glob.glob('./*/*/[0-9]*/[0-9]*'):\n",
    "    fromPath = name\n",
    "    toPath = os.path.join(outputBasePath, f\"test_{testIndex}\")\n",
    "    print(f\"Copying from {fromPath} to {toPath}...\")\n",
    "    copy_tree(fromPath, toPath)\n",
    "\n",
    "    break\n",
    "    \n",
    "print(\"Finished\")\n",
    "    \n"
   ]
  },
  {
   "cell_type": "code",
   "execution_count": null,
   "metadata": {},
   "outputs": [],
   "source": []
  }
 ],
 "metadata": {
  "kernelspec": {
   "display_name": "Python 3",
   "language": "python",
   "name": "python3"
  },
  "language_info": {
   "codemirror_mode": {
    "name": "ipython",
    "version": 3
   },
   "file_extension": ".py",
   "mimetype": "text/x-python",
   "name": "python",
   "nbconvert_exporter": "python",
   "pygments_lexer": "ipython3",
   "version": "3.7.7"
  }
 },
 "nbformat": 4,
 "nbformat_minor": 4
}
